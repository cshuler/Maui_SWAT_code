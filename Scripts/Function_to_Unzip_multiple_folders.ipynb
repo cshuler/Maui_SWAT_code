{
 "cells": [
  {
   "cell_type": "code",
   "execution_count": 15,
   "metadata": {
    "colab": {},
    "colab_type": "code",
    "executionInfo": {
     "elapsed": 801,
     "status": "ok",
     "timestamp": 1595982731635,
     "user": {
      "displayName": "Christopher Shuler",
      "photoUrl": "https://lh3.googleusercontent.com/a-/AOh14Gi4CiLCyXgUCwAzL0Xg5w433CtukBRTQrHxz-iD=s64",
      "userId": "17881453818629571547"
     },
     "user_tz": 600
    },
    "id": "XbfpHkZybgqT"
   },
   "outputs": [],
   "source": []
  },
  {
   "cell_type": "code",
   "execution_count": 16,
   "metadata": {
    "colab": {},
    "colab_type": "code",
    "executionInfo": {
     "elapsed": 6048,
     "status": "ok",
     "timestamp": 1595982776780,
     "user": {
      "displayName": "Christopher Shuler",
      "photoUrl": "https://lh3.googleusercontent.com/a-/AOh14Gi4CiLCyXgUCwAzL0Xg5w433CtukBRTQrHxz-iD=s64",
      "userId": "17881453818629571547"
     },
     "user_tz": 600
    },
    "id": "GRCEZ9UZbw3Y"
   },
   "outputs": [],
   "source": [
    "# IMport modules \n",
    "import os\n",
    "import numpy as np\n",
    "import pandas as pd\n",
    "import matplotlib.pyplot as plt\n",
    "import zipfile"
   ]
  },
  {
   "cell_type": "code",
   "execution_count": null,
   "metadata": {
    "colab": {
     "base_uri": "https://localhost:8080/",
     "height": 52
    },
    "colab_type": "code",
    "id": "SoW77EVRcAMq",
    "outputId": "c77df3ef-af4a-46a4-fd3d-a14ef0c346dd"
   },
   "outputs": [
    {
     "name": "stdout",
     "output_type": "stream",
     "text": [
      "working on Copy of EastWestMaui_Green.zip\n",
      "working on Copy of Honolua.zip\n",
      "working on Copy of Honolua_Green.zip\n",
      "working on Copy of Honolua_MGrowth.zip\n",
      "working on Copy of Honopou.zip\n",
      "working on Copy of J2017_EastWestMaui.zip\n",
      "working on Copy of Kalena.zip\n",
      "working on Copy of Lahaina.zip\n",
      "working on Copy of North_CentralMaui.zip\n",
      "working on Copy of South_CentralMaui.zip\n",
      "working on Copy of South_EastMaui.zip\n",
      "working on Copy of Wahikuli.zip\n",
      "working on Copy of Wahikuli_Green.zip\n",
      "working on Copy of Wahikuli_Growth.zip\n"
     ]
    }
   ],
   "source": [
    "# path to where the raw zips are located\n",
    "datapath =  os.path.join(\"..\", 'Raw_data', 'zips' )\n",
    "\n",
    "# The list of all files that end with .zip\n",
    "list_o_model_zip_files = [f for f in os.listdir(datapath) if f.endswith('.zip')]\n",
    "\n",
    "# place to spit out the unzipped files\n",
    "zipstopath = os.path.join(\"..\", 'Raw_data', 'Unzipped')\n",
    "\n",
    "# unzip all the zips\n",
    "for zipfil in list_o_model_zip_files:\n",
    "    print(f\"working on {zipfil}\")\n",
    "    path_to_zip_file = os.path.join(datapath, zipfil)\n",
    "    extracted_Files = os.path.join(zipstopath, zipfil.split(\".\")[0])\n",
    "\n",
    "    with zipfile.ZipFile(path_to_zip_file, 'r') as zip_ref:\n",
    "        zip_ref.extractall(extracted_Files)"
   ]
  },
  {
   "cell_type": "code",
   "execution_count": 13,
   "metadata": {
    "colab": {},
    "colab_type": "code",
    "executionInfo": {
     "elapsed": 273223,
     "status": "ok",
     "timestamp": 1595983077659,
     "user": {
      "displayName": "Christopher Shuler",
      "photoUrl": "https://lh3.googleusercontent.com/a-/AOh14Gi4CiLCyXgUCwAzL0Xg5w433CtukBRTQrHxz-iD=s64",
      "userId": "17881453818629571547"
     },
     "user_tz": 600
    },
    "id": "LtWgXpurcCQY"
   },
   "outputs": [
    {
     "data": {
      "text/plain": [
       "['Copy of EastWestMaui_Green.zip',\n",
       " 'Copy of Honolua.zip',\n",
       " 'Copy of Honolua_Green.zip',\n",
       " 'Copy of Honolua_MGrowth.zip',\n",
       " 'Copy of Honopou.zip',\n",
       " 'Copy of J2017_EastWestMaui.zip',\n",
       " 'Copy of Kalena.zip',\n",
       " 'Copy of Lahaina.zip',\n",
       " 'Copy of North_CentralMaui.zip',\n",
       " 'Copy of South_CentralMaui.zip',\n",
       " 'Copy of South_EastMaui.zip',\n",
       " 'Copy of Wahikuli.zip',\n",
       " 'Copy of Wahikuli_Green.zip',\n",
       " 'Copy of Wahikuli_Growth.zip',\n",
       " 'Copy of Wahikuli_MGrowth.zip']"
      ]
     },
     "execution_count": 13,
     "metadata": {},
     "output_type": "execute_result"
    }
   ],
   "source": [
    "list_o_model_zip_files"
   ]
  },
  {
   "cell_type": "code",
   "execution_count": null,
   "metadata": {
    "colab": {
     "base_uri": "https://localhost:8080/",
     "height": 36
    },
    "colab_type": "code",
    "executionInfo": {
     "elapsed": 463,
     "status": "ok",
     "timestamp": 1595912241546,
     "user": {
      "displayName": "Christopher Shuler",
      "photoUrl": "https://lh3.googleusercontent.com/a-/AOh14Gi4CiLCyXgUCwAzL0Xg5w433CtukBRTQrHxz-iD=s64",
      "userId": "17881453818629571547"
     },
     "user_tz": 600
    },
    "id": "98iibYFakfib",
    "outputId": "ad7f30be-0980-49ca-edfa-6f20ed6c1ca1"
   },
   "outputs": [],
   "source": [
    "\n"
   ]
  },
  {
   "cell_type": "code",
   "execution_count": null,
   "metadata": {
    "colab": {},
    "colab_type": "code",
    "id": "3RQhnNp_kgM7"
   },
   "outputs": [],
   "source": []
  },
  {
   "cell_type": "code",
   "execution_count": null,
   "metadata": {
    "colab": {},
    "colab_type": "code",
    "id": "bEb7gtItr8BF"
   },
   "outputs": [],
   "source": []
  }
 ],
 "metadata": {
  "colab": {
   "authorship_tag": "ABX9TyPIB9OUxZDaOjFT+c1OnQBl",
   "name": "Extracting_organizing_raw_data.ipynb",
   "provenance": []
  },
  "kernelspec": {
   "display_name": "Python 3",
   "language": "python",
   "name": "python3"
  },
  "language_info": {
   "codemirror_mode": {
    "name": "ipython",
    "version": 3
   },
   "file_extension": ".py",
   "mimetype": "text/x-python",
   "name": "python",
   "nbconvert_exporter": "python",
   "pygments_lexer": "ipython3",
   "version": "3.7.4"
  }
 },
 "nbformat": 4,
 "nbformat_minor": 1
}
