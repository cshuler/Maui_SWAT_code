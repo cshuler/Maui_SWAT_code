{
 "cells": [
  {
   "cell_type": "code",
   "execution_count": 1,
   "metadata": {
    "colab": {},
    "colab_type": "code",
    "executionInfo": {
     "elapsed": 801,
     "status": "ok",
     "timestamp": 1595982731635,
     "user": {
      "displayName": "Christopher Shuler",
      "photoUrl": "https://lh3.googleusercontent.com/a-/AOh14Gi4CiLCyXgUCwAzL0Xg5w433CtukBRTQrHxz-iD=s64",
      "userId": "17881453818629571547"
     },
     "user_tz": 600
    },
    "id": "XbfpHkZybgqT"
   },
   "outputs": [],
   "source": [
    "# IMport modules \n",
    "import os\n",
    "import numpy as np\n",
    "import pandas as pd\n",
    "import matplotlib.pyplot as plt\n",
    "import zipfile"
   ]
  },
  {
   "cell_type": "code",
   "execution_count": null,
   "metadata": {
    "colab": {
     "base_uri": "https://localhost:8080/",
     "height": 144
    },
    "colab_type": "code",
    "executionInfo": {
     "elapsed": 35387,
     "status": "ok",
     "timestamp": 1595982767719,
     "user": {
      "displayName": "Christopher Shuler",
      "photoUrl": "https://lh3.googleusercontent.com/a-/AOh14Gi4CiLCyXgUCwAzL0Xg5w433CtukBRTQrHxz-iD=s64",
      "userId": "17881453818629571547"
     },
     "user_tz": 600
    },
    "id": "MlwH_vz2bm5G",
    "outputId": "e05b44ce-a913-40b6-da77-585a59c76ba4"
   },
   "outputs": [],
   "source": [
    "# path to where the raw zips are located\n",
    "datapath =  os.path.join(\"..\", 'Raw_data', 'zips' )\n"
   ]
  },
  {
   "cell_type": "code",
   "execution_count": 3,
   "metadata": {
    "colab": {},
    "colab_type": "code",
    "executionInfo": {
     "elapsed": 6048,
     "status": "ok",
     "timestamp": 1595982776780,
     "user": {
      "displayName": "Christopher Shuler",
      "photoUrl": "https://lh3.googleusercontent.com/a-/AOh14Gi4CiLCyXgUCwAzL0Xg5w433CtukBRTQrHxz-iD=s64",
      "userId": "17881453818629571547"
     },
     "user_tz": 600
    },
    "id": "GRCEZ9UZbw3Y"
   },
   "outputs": [],
   "source": [
    "# path to where the raw zips are located\n",
    "datapath =  os.path.join(\"..\", \"Oleson Lab Shared\", \"LAB PROJECT DATA REPOSITORY\", 'ProjectData', 'PacRISA_Ecological_Economic_SWAT_Model', '3_Models' )\n",
    "\n",
    "# The list of all files that end with .zip\n",
    "list_o_model_zip_files = [f for f in os.listdir(datapath) if f.endswith('.zip')]\n",
    "\n",
    "# place to spit out the unzipped files\n",
    "zipstopath = os.path.join(\"..\", 'Raw_Data_Hla', 'Unzipped')"
   ]
  },
  {
   "cell_type": "code",
   "execution_count": 4,
   "metadata": {
    "colab": {
     "base_uri": "https://localhost:8080/",
     "height": 284
    },
    "colab_type": "code",
    "executionInfo": {
     "elapsed": 5639,
     "status": "ok",
     "timestamp": 1595982776784,
     "user": {
      "displayName": "Christopher Shuler",
      "photoUrl": "https://lh3.googleusercontent.com/a-/AOh14Gi4CiLCyXgUCwAzL0Xg5w433CtukBRTQrHxz-iD=s64",
      "userId": "17881453818629571547"
     },
     "user_tz": 600
    },
    "id": "tbTPEodUueQ8",
    "outputId": "37735504-4864-4b0e-8ba1-bfd63a931d49"
   },
   "outputs": [
    {
     "data": {
      "text/plain": [
       "['Hanawi.zip',\n",
       " 'Honolua.zip',\n",
       " 'Honolua_Green.zip',\n",
       " 'Honolua_Growth.zip',\n",
       " 'Honolua_MGrowth.zip',\n",
       " 'Honopou.zip',\n",
       " 'Kalena.zip',\n",
       " 'Lahaina.zip',\n",
       " 'North_CentralMaui.zip',\n",
       " 'South_CentralMaui.zip',\n",
       " 'South_EastMaui.zip',\n",
       " 'Wahikuli.zip',\n",
       " 'Wahikuli_Green.zip',\n",
       " 'Wahikuli_Growth.zip',\n",
       " 'Wahikuli_MGrowth.zip']"
      ]
     },
     "execution_count": 4,
     "metadata": {
      "tags": []
     },
     "output_type": "execute_result"
    }
   ],
   "source": [
    "list_o_model_zip_files[4:]\n"
   ]
  },
  {
   "cell_type": "code",
   "execution_count": null,
   "metadata": {
    "colab": {
     "base_uri": "https://localhost:8080/",
     "height": 52
    },
    "colab_type": "code",
    "id": "SoW77EVRcAMq",
    "outputId": "c77df3ef-af4a-46a4-fd3d-a14ef0c346dd"
   },
   "outputs": [
    {
     "name": "stdout",
     "output_type": "stream",
     "text": [
      "working on Hanawi.zip\n",
      "working on Honolua.zip\n"
     ]
    }
   ],
   "source": [
    "# unzip all the zips\n",
    "\n",
    "for zipfil in list_o_model_zip_files[4:]:\n",
    "    print(f\"working on {zipfil}\")\n",
    "    path_to_zip_file = os.path.join(datapath, zipfil)\n",
    "    extracted_Files = os.path.join(zipstopath, zipfil.split(\".\")[0])\n",
    "\n",
    "    with zipfile.ZipFile(path_to_zip_file, 'r') as zip_ref:\n",
    "        zip_ref.extractall(extracted_Files)\n"
   ]
  },
  {
   "cell_type": "code",
   "execution_count": 5,
   "metadata": {
    "colab": {},
    "colab_type": "code",
    "executionInfo": {
     "elapsed": 273223,
     "status": "ok",
     "timestamp": 1595983077659,
     "user": {
      "displayName": "Christopher Shuler",
      "photoUrl": "https://lh3.googleusercontent.com/a-/AOh14Gi4CiLCyXgUCwAzL0Xg5w433CtukBRTQrHxz-iD=s64",
      "userId": "17881453818629571547"
     },
     "user_tz": 600
    },
    "id": "LtWgXpurcCQY"
   },
   "outputs": [],
   "source": [
    "path_to_zip_file = os.path.join(datapath, 'Honolua_Growth.zip')\n",
    "\n",
    "extracted_Files = os.path.join(zipstopath, \"Honolua_Growth\")\n",
    "\n",
    "with zipfile.ZipFile(path_to_zip_file, 'r') as zip_ref:\n",
    "    zip_ref.extractall(extracted_Files)"
   ]
  },
  {
   "cell_type": "code",
   "execution_count": null,
   "metadata": {
    "colab": {
     "base_uri": "https://localhost:8080/",
     "height": 36
    },
    "colab_type": "code",
    "executionInfo": {
     "elapsed": 463,
     "status": "ok",
     "timestamp": 1595912241546,
     "user": {
      "displayName": "Christopher Shuler",
      "photoUrl": "https://lh3.googleusercontent.com/a-/AOh14Gi4CiLCyXgUCwAzL0Xg5w433CtukBRTQrHxz-iD=s64",
      "userId": "17881453818629571547"
     },
     "user_tz": 600
    },
    "id": "98iibYFakfib",
    "outputId": "ad7f30be-0980-49ca-edfa-6f20ed6c1ca1"
   },
   "outputs": [
    {
     "data": {
      "application/vnd.google.colaboratory.intrinsic+json": {
       "type": "string"
      },
      "text/plain": [
       "'../Raw_Data_Hla/Unzipped/Honokohau_V2'"
      ]
     },
     "execution_count": 8,
     "metadata": {
      "tags": []
     },
     "output_type": "execute_result"
    }
   ],
   "source": [
    "extracted_Files\n"
   ]
  },
  {
   "cell_type": "code",
   "execution_count": null,
   "metadata": {
    "colab": {},
    "colab_type": "code",
    "id": "3RQhnNp_kgM7"
   },
   "outputs": [],
   "source": []
  },
  {
   "cell_type": "code",
   "execution_count": null,
   "metadata": {
    "colab": {},
    "colab_type": "code",
    "id": "bEb7gtItr8BF"
   },
   "outputs": [],
   "source": []
  }
 ],
 "metadata": {
  "colab": {
   "authorship_tag": "ABX9TyPIB9OUxZDaOjFT+c1OnQBl",
   "name": "Extracting_organizing_raw_data.ipynb",
   "provenance": []
  },
  "kernelspec": {
   "display_name": "Python 3",
   "language": "python",
   "name": "python3"
  },
  "language_info": {
   "codemirror_mode": {
    "name": "ipython",
    "version": 3
   },
   "file_extension": ".py",
   "mimetype": "text/x-python",
   "name": "python",
   "nbconvert_exporter": "python",
   "pygments_lexer": "ipython3",
   "version": "3.7.4"
  }
 },
 "nbformat": 4,
 "nbformat_minor": 1
}
